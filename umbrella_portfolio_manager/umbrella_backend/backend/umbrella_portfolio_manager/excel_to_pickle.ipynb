{
 "cells": [
  {
   "cell_type": "code",
   "execution_count": 3,
   "metadata": {},
   "outputs": [],
   "source": [
    "import pandas as pd"
   ]
  },
  {
   "cell_type": "markdown",
   "metadata": {},
   "source": [
    "# Excel file to pickle file"
   ]
  },
  {
   "cell_type": "code",
   "execution_count": 9,
   "metadata": {},
   "outputs": [],
   "source": [
    "portfolio = pd.read_excel(\"./umbrella_portfolio_manager/tmp_files/Cashflows.xlsx\", sheet_name=\"Portfolio\")\n",
    "cashflows = pd.read_excel(\"./umbrella_portfolio_manager/tmp_files/Cashflows.xlsx\", sheet_name=\"Cashflows\")\n",
    "deposits = pd.read_excel(\"./umbrella_portfolio_manager/tmp_files/Cashflows.xlsx\", sheet_name=\"Deposits\")\n",
    "actors = pd.read_excel(\"./umbrella_portfolio_manager/tmp_files/Cashflows.xlsx\", sheet_name=\"Actors\")"
   ]
  },
  {
   "cell_type": "code",
   "execution_count": 12,
   "metadata": {},
   "outputs": [],
   "source": [
    "portfolio.to_pickle('./umbrella_portfolio_manager/tmp_files/portfolio.pkl')\n",
    "cashflows.to_pickle('./umbrella_portfolio_manager/tmp_files/cashflows.pkl')\n",
    "deposits.to_pickle('./umbrella_portfolio_manager/tmp_files/deposits.pkl')\n",
    "actors.to_pickle('./umbrella_portfolio_manager/tmp_files/actors.pkl')"
   ]
  }
 ],
 "metadata": {
  "kernelspec": {
   "display_name": "UmbrellaPortfolioManager",
   "language": "python",
   "name": "python3"
  },
  "language_info": {
   "codemirror_mode": {
    "name": "ipython",
    "version": 3
   },
   "file_extension": ".py",
   "mimetype": "text/x-python",
   "name": "python",
   "nbconvert_exporter": "python",
   "pygments_lexer": "ipython3",
   "version": "3.8.18"
  }
 },
 "nbformat": 4,
 "nbformat_minor": 2
}
