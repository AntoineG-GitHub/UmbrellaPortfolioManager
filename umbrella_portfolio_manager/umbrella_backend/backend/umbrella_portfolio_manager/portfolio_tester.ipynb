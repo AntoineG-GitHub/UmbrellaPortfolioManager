{
 "cells": [
  {
   "cell_type": "code",
   "execution_count": 2,
   "metadata": {},
   "outputs": [
    {
     "ename": "ModuleNotFoundError",
     "evalue": "No module named 'umbrella_portfolio_manager.umbrella_portfolio_manager'; 'umbrella_portfolio_manager' is not a package",
     "output_type": "error",
     "traceback": [
      "\u001b[1;31m---------------------------------------------------------------------------\u001b[0m",
      "\u001b[1;31mModuleNotFoundError\u001b[0m                       Traceback (most recent call last)",
      "Cell \u001b[1;32mIn[2], line 1\u001b[0m\n\u001b[1;32m----> 1\u001b[0m \u001b[38;5;28;01mfrom\u001b[39;00m \u001b[38;5;21;01mportfolio\u001b[39;00m\u001b[38;5;21;01m.\u001b[39;00m\u001b[38;5;21;01mportfolio\u001b[39;00m \u001b[38;5;28;01mimport\u001b[39;00m Portfolio\n",
      "File \u001b[1;32md:\\Users\\Antoine\\Documents\\Umbrella_Fund\\Code_projects\\UmbrellaPortfolioManager\\umbrella_portfolio_manager\\umbrella_backend\\backend\\umbrella_portfolio_manager\\portfolio\\portfolio.py:3\u001b[0m\n\u001b[0;32m      1\u001b[0m \u001b[38;5;28;01mimport\u001b[39;00m \u001b[38;5;21;01mpandas\u001b[39;00m \u001b[38;5;28;01mas\u001b[39;00m \u001b[38;5;21;01mpd\u001b[39;00m\n\u001b[1;32m----> 3\u001b[0m \u001b[38;5;28;01mfrom\u001b[39;00m \u001b[38;5;21;01mumbrella_portfolio_manager\u001b[39;00m\u001b[38;5;21;01m.\u001b[39;00m\u001b[38;5;21;01mumbrella_portfolio_manager\u001b[39;00m\u001b[38;5;21;01m.\u001b[39;00m\u001b[38;5;21;01mportfolio\u001b[39;00m\u001b[38;5;21;01m.\u001b[39;00m\u001b[38;5;21;01mholders\u001b[39;00m \u001b[38;5;28;01mimport\u001b[39;00m Holders \n\u001b[0;32m      5\u001b[0m \u001b[38;5;28;01mclass\u001b[39;00m \u001b[38;5;21;01mPortfolio\u001b[39;00m:\n\u001b[0;32m      7\u001b[0m     \u001b[38;5;28;01mdef\u001b[39;00m \u001b[38;5;21m__init__\u001b[39m(\u001b[38;5;28mself\u001b[39m, \u001b[38;5;28mid\u001b[39m) \u001b[38;5;241m-\u001b[39m\u001b[38;5;241m>\u001b[39m \u001b[38;5;28;01mNone\u001b[39;00m:\n",
      "\u001b[1;31mModuleNotFoundError\u001b[0m: No module named 'umbrella_portfolio_manager.umbrella_portfolio_manager'; 'umbrella_portfolio_manager' is not a package"
     ]
    }
   ],
   "source": [
    "from portfolio.portfolio import Portfolio"
   ]
  },
  {
   "cell_type": "markdown",
   "metadata": {},
   "source": [
    "# Portfolio tester"
   ]
  },
  {
   "cell_type": "code",
   "execution_count": 2,
   "metadata": {},
   "outputs": [],
   "source": [
    "portfolio = Portfolio(id = \"01\")"
   ]
  },
  {
   "cell_type": "code",
   "execution_count": 3,
   "metadata": {},
   "outputs": [],
   "source": [
    "portfolio.add_stock_transactions(ticker='NVDA', date= \"2022-01-01\", quantity=1, transaction_price= 153.02, conversation_rate= 1.02, transaction_price_euro= 150.02, charge= 2.38)\n",
    "portfolio.add_stock_transactions(ticker='AMZN', date= \"2023-01-01\", quantity=1, transaction_price= 173.02, conversation_rate= 1.02, transaction_price_euro= 169.63, charge= 2.38)"
   ]
  },
  {
   "cell_type": "code",
   "execution_count": 4,
   "metadata": {},
   "outputs": [
    {
     "data": {
      "text/html": [
       "<div>\n",
       "<style scoped>\n",
       "    .dataframe tbody tr th:only-of-type {\n",
       "        vertical-align: middle;\n",
       "    }\n",
       "\n",
       "    .dataframe tbody tr th {\n",
       "        vertical-align: top;\n",
       "    }\n",
       "\n",
       "    .dataframe thead th {\n",
       "        text-align: right;\n",
       "    }\n",
       "</style>\n",
       "<table border=\"1\" class=\"dataframe\">\n",
       "  <thead>\n",
       "    <tr style=\"text-align: right;\">\n",
       "      <th></th>\n",
       "      <th>ticker</th>\n",
       "      <th>transactions_date</th>\n",
       "      <th>quantity</th>\n",
       "      <th>transaction_price</th>\n",
       "      <th>conversation_rate</th>\n",
       "      <th>transaction_price_euro</th>\n",
       "      <th>charge</th>\n",
       "    </tr>\n",
       "  </thead>\n",
       "  <tbody>\n",
       "    <tr>\n",
       "      <th>0</th>\n",
       "      <td>NVDA</td>\n",
       "      <td>2022-01-01</td>\n",
       "      <td>1</td>\n",
       "      <td>153.02</td>\n",
       "      <td>1.02</td>\n",
       "      <td>150.02</td>\n",
       "      <td>2.38</td>\n",
       "    </tr>\n",
       "    <tr>\n",
       "      <th>0</th>\n",
       "      <td>AMZN</td>\n",
       "      <td>2023-01-01</td>\n",
       "      <td>1</td>\n",
       "      <td>173.02</td>\n",
       "      <td>1.02</td>\n",
       "      <td>169.63</td>\n",
       "      <td>2.38</td>\n",
       "    </tr>\n",
       "  </tbody>\n",
       "</table>\n",
       "</div>"
      ],
      "text/plain": [
       "  ticker transactions_date quantity  transaction_price  conversation_rate  \\\n",
       "0   NVDA        2022-01-01        1             153.02               1.02   \n",
       "0   AMZN        2023-01-01        1             173.02               1.02   \n",
       "\n",
       "   transaction_price_euro  charge  \n",
       "0                  150.02    2.38  \n",
       "0                  169.63    2.38  "
      ]
     },
     "execution_count": 4,
     "metadata": {},
     "output_type": "execute_result"
    }
   ],
   "source": [
    "portfolio.portfolio_transactions"
   ]
  },
  {
   "cell_type": "code",
   "execution_count": 5,
   "metadata": {},
   "outputs": [
    {
     "name": "stdout",
     "output_type": "stream",
     "text": [
      "['2022-01-01' '2023-01-01']\n",
      "0 ticker                          NVDA\n",
      "transactions_date         2022-01-01\n",
      "quantity                           1\n",
      "transaction_price             153.02\n",
      "conversation_rate               1.02\n",
      "transaction_price_euro        150.02\n",
      "charge                          2.38\n",
      "Name: 0, dtype: object\n",
      "0 ticker                          AMZN\n",
      "transactions_date         2023-01-01\n",
      "quantity                           1\n",
      "transaction_price             173.02\n",
      "conversation_rate               1.02\n",
      "transaction_price_euro        169.63\n",
      "charge                          2.38\n",
      "Name: 0, dtype: object\n"
     ]
    }
   ],
   "source": [
    "portfolio.update_all_history() # add add_transaction inside that function"
   ]
  },
  {
   "cell_type": "code",
   "execution_count": 6,
   "metadata": {},
   "outputs": [
    {
     "data": {
      "text/html": [
       "<div>\n",
       "<style scoped>\n",
       "    .dataframe tbody tr th:only-of-type {\n",
       "        vertical-align: middle;\n",
       "    }\n",
       "\n",
       "    .dataframe tbody tr th {\n",
       "        vertical-align: top;\n",
       "    }\n",
       "\n",
       "    .dataframe thead th {\n",
       "        text-align: right;\n",
       "    }\n",
       "</style>\n",
       "<table border=\"1\" class=\"dataframe\">\n",
       "  <thead>\n",
       "    <tr style=\"text-align: right;\">\n",
       "      <th></th>\n",
       "      <th>quantity</th>\n",
       "      <th>price</th>\n",
       "      <th>transaction_price_euro</th>\n",
       "      <th>conversion_rate</th>\n",
       "    </tr>\n",
       "  </thead>\n",
       "  <tbody>\n",
       "    <tr>\n",
       "      <th>2023-01-01</th>\n",
       "      <td>1</td>\n",
       "      <td>173.020000</td>\n",
       "      <td>169.630000</td>\n",
       "      <td>1.020000</td>\n",
       "    </tr>\n",
       "    <tr>\n",
       "      <th>2023-01-03</th>\n",
       "      <td>1</td>\n",
       "      <td>85.820000</td>\n",
       "      <td>80.373006</td>\n",
       "      <td>1.067771</td>\n",
       "    </tr>\n",
       "    <tr>\n",
       "      <th>2023-01-04</th>\n",
       "      <td>1</td>\n",
       "      <td>85.139999</td>\n",
       "      <td>80.725488</td>\n",
       "      <td>1.054685</td>\n",
       "    </tr>\n",
       "    <tr>\n",
       "      <th>2023-01-05</th>\n",
       "      <td>1</td>\n",
       "      <td>83.120003</td>\n",
       "      <td>78.368038</td>\n",
       "      <td>1.060637</td>\n",
       "    </tr>\n",
       "    <tr>\n",
       "      <th>2023-01-06</th>\n",
       "      <td>1</td>\n",
       "      <td>86.080002</td>\n",
       "      <td>81.807851</td>\n",
       "      <td>1.052222</td>\n",
       "    </tr>\n",
       "    <tr>\n",
       "      <th>...</th>\n",
       "      <td>...</td>\n",
       "      <td>...</td>\n",
       "      <td>...</td>\n",
       "      <td>...</td>\n",
       "    </tr>\n",
       "    <tr>\n",
       "      <th>2023-12-22</th>\n",
       "      <td>1</td>\n",
       "      <td>153.419998</td>\n",
       "      <td>139.394335</td>\n",
       "      <td>1.100619</td>\n",
       "    </tr>\n",
       "    <tr>\n",
       "      <th>2023-12-26</th>\n",
       "      <td>1</td>\n",
       "      <td>153.410004</td>\n",
       "      <td>139.207307</td>\n",
       "      <td>1.102026</td>\n",
       "    </tr>\n",
       "    <tr>\n",
       "      <th>2023-12-27</th>\n",
       "      <td>1</td>\n",
       "      <td>153.339996</td>\n",
       "      <td>138.857039</td>\n",
       "      <td>1.104301</td>\n",
       "    </tr>\n",
       "    <tr>\n",
       "      <th>2023-12-28</th>\n",
       "      <td>1</td>\n",
       "      <td>153.380005</td>\n",
       "      <td>138.072677</td>\n",
       "      <td>1.110864</td>\n",
       "    </tr>\n",
       "    <tr>\n",
       "      <th>2023-12-29</th>\n",
       "      <td>1</td>\n",
       "      <td>151.940002</td>\n",
       "      <td>137.276268</td>\n",
       "      <td>1.106819</td>\n",
       "    </tr>\n",
       "  </tbody>\n",
       "</table>\n",
       "<p>251 rows × 4 columns</p>\n",
       "</div>"
      ],
      "text/plain": [
       "            quantity       price  transaction_price_euro  conversion_rate\n",
       "2023-01-01         1  173.020000              169.630000         1.020000\n",
       "2023-01-03         1   85.820000               80.373006         1.067771\n",
       "2023-01-04         1   85.139999               80.725488         1.054685\n",
       "2023-01-05         1   83.120003               78.368038         1.060637\n",
       "2023-01-06         1   86.080002               81.807851         1.052222\n",
       "...              ...         ...                     ...              ...\n",
       "2023-12-22         1  153.419998              139.394335         1.100619\n",
       "2023-12-26         1  153.410004              139.207307         1.102026\n",
       "2023-12-27         1  153.339996              138.857039         1.104301\n",
       "2023-12-28         1  153.380005              138.072677         1.110864\n",
       "2023-12-29         1  151.940002              137.276268         1.106819\n",
       "\n",
       "[251 rows x 4 columns]"
      ]
     },
     "execution_count": 6,
     "metadata": {},
     "output_type": "execute_result"
    }
   ],
   "source": [
    "portfolio.stocks['AMZN'].dict_evolution['2023-01-01']"
   ]
  }
 ],
 "metadata": {
  "kernelspec": {
   "display_name": "UmbrellaPortfolioManager",
   "language": "python",
   "name": "python3"
  },
  "language_info": {
   "codemirror_mode": {
    "name": "ipython",
    "version": 3
   },
   "file_extension": ".py",
   "mimetype": "text/x-python",
   "name": "python",
   "nbconvert_exporter": "python",
   "pygments_lexer": "ipython3",
   "version": "3.8.18"
  }
 },
 "nbformat": 4,
 "nbformat_minor": 2
}
