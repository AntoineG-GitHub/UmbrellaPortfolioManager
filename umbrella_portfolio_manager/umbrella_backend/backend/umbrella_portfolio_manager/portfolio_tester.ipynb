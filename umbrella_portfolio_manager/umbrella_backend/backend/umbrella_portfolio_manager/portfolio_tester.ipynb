{
 "cells": [
  {
   "cell_type": "code",
   "execution_count": 1,
   "metadata": {},
   "outputs": [],
   "source": [
    "from portfolio.portfolio import Portfolio"
   ]
  },
  {
   "cell_type": "markdown",
   "metadata": {},
   "source": [
    "# Portfolio tester"
   ]
  },
  {
   "cell_type": "markdown",
   "metadata": {},
   "source": [
    "### Ordre des étapes\n",
    "    1. Ajout d'un portfolio\n",
    "    2. Ajout d'un holder\n",
    "    3. Ajout de transaction\n",
    "    4. Calcul de l'historique des holders\n",
    "    5. Calcul de l'historique des transactions\n",
    "Le tout dans l'ordre chronologique"
   ]
  },
  {
   "cell_type": "code",
   "execution_count": 2,
   "metadata": {},
   "outputs": [
    {
     "name": "stdout",
     "output_type": "stream",
     "text": [
      "ok\n",
      "ok\n",
      "01\n",
      "02\n",
      "ok\n",
      "ok\n",
      "01\n",
      "02\n"
     ]
    }
   ],
   "source": [
    "portfolio = Portfolio(id = \"01\")\n",
    "# 01-01-2022\n",
    "## holders historic\n",
    "portfolio.add_holders_transactions(holder_id='01', date= \"2022-01-01\", amount=100)\n",
    "portfolio.add_holders_transactions(holder_id='02', date= \"2022-01-01\", amount=100)\n",
    "for keys in portfolio.holders.keys() :   \n",
    "    print(keys)                                                                                           \n",
    "    portfolio.holders[keys].update_dict_evolution_historic(\"2022-01-02\",\"2022-12-31\")\n",
    "portfolio.compute_holders_percentage_historic()\n",
    "## portfolio historic\n",
    "portfolio.add_stock_transactions(ticker='NVDA', date= \"2022-01-01\", quantity=1, transaction_price= 153.02, conversation_rate= 1.02, transaction_price_euro= 150.02, charge= 2.38)\n",
    "for keys in portfolio.stocks.keys() : \n",
    "    portfolio.stocks[keys].update_dict_evolution_historic(\"2022-01-02\",\"2022-12-31\")\n",
    "\n",
    "# 01-01-2023\n",
    "## holders historic\n",
    "portfolio.add_holders_transactions(holder_id='01', date= \"2023-01-01\", amount=100)\n",
    "portfolio.add_holders_transactions(holder_id='02', date= \"2023-01-01\", amount=-50)\n",
    "for keys in portfolio.holders.keys() :\n",
    "    print(keys)                                                                                              \n",
    "    portfolio.holders[keys].update_dict_evolution_historic(\"2023-01-02\",\"2024-01-01\")\n",
    "portfolio.compute_holders_percentage_historic()\n",
    "## portfolio historic\n",
    "portfolio.add_stock_transactions(ticker='NVDA', date= \"2023-01-01\", quantity=1, transaction_price= 153.02, conversation_rate= 1.02, transaction_price_euro= 150.02, charge= 2.38)\n",
    "for keys in portfolio.stocks.keys() : \n",
    "    portfolio.stocks[keys].update_dict_evolution_historic(\"2023-01-02\",\"2024-01-01\")\n"
   ]
  },
  {
   "cell_type": "code",
   "execution_count": 3,
   "metadata": {},
   "outputs": [
    {
     "name": "stdout",
     "output_type": "stream",
     "text": [
      "           amount_01 amount_02 total_amount percentage_01 percentage_02\n",
      "2022-01-01       100       100          200          50.0          50.0\n",
      "2022-01-02       100       100          200          50.0          50.0\n",
      "2022-01-03       100       100          200          50.0          50.0\n",
      "2022-01-04       100       100          200          50.0          50.0\n",
      "2022-01-05       100       100          200          50.0          50.0\n",
      "...              ...       ...          ...           ...           ...\n",
      "2023-12-28       200        50          250          80.0          20.0\n",
      "2023-12-29       200        50          250          80.0          20.0\n",
      "2023-12-30       200        50          250          80.0          20.0\n",
      "2023-12-31       200        50          250          80.0          20.0\n",
      "2024-01-01       200        50          250          80.0          20.0\n",
      "\n",
      "[731 rows x 5 columns]\n"
     ]
    }
   ],
   "source": [
    "print(portfolio.holders_percentage_historic)"
   ]
  }
 ],
 "metadata": {
  "kernelspec": {
   "display_name": "UmbrellaPortfolioManager",
   "language": "python",
   "name": "python3"
  },
  "language_info": {
   "codemirror_mode": {
    "name": "ipython",
    "version": 3
   },
   "file_extension": ".py",
   "mimetype": "text/x-python",
   "name": "python",
   "nbconvert_exporter": "python",
   "pygments_lexer": "ipython3",
   "version": "3.8.18"
  }
 },
 "nbformat": 4,
 "nbformat_minor": 2
}
