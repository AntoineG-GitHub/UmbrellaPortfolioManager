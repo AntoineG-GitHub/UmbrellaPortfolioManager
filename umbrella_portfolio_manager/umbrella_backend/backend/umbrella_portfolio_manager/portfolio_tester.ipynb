{
 "cells": [
  {
   "cell_type": "code",
   "execution_count": 1,
   "metadata": {},
   "outputs": [],
   "source": [
    "from portfolio.portfolio import Portfolio"
   ]
  },
  {
   "cell_type": "markdown",
   "metadata": {},
   "source": [
    "# Portfolio tester"
   ]
  },
  {
   "cell_type": "code",
   "execution_count": 2,
   "metadata": {},
   "outputs": [],
   "source": [
    "portfolio = Portfolio(id = \"01\")"
   ]
  },
  {
   "cell_type": "code",
   "execution_count": 3,
   "metadata": {},
   "outputs": [],
   "source": [
    "# portfolio.add_stock_transactions(ticker='NVDA', date= \"2022-01-01\", quantity=1, transaction_price= 153.02, conversation_rate= 1.02, transaction_price_euro= 150.02, charge= 2.38)\n",
    "\n",
    "# for keys in portfolio.stocks.keys() : \n",
    "#     portfolio.stocks[keys].update_dict_evolution_historic(\"2022-01-01\",\"2023-01-01\")\n",
    "# portfolio.add_stock_transactions(ticker='AMZN', date= \"2023-01-01\", quantity=1, transaction_price= 173.02, conversation_rate= 1.02, transaction_price_euro= 169.63, charge= 2.38)\n",
    "# print(portfolio.stocks)\n",
    "\n",
    "# for keys in portfolio.stocks.keys() : \n",
    "#     portfolio.stocks[keys].update_dict_evolution_historic(\"2023-01-01\",\"2024-01-01\")"
   ]
  },
  {
   "cell_type": "code",
   "execution_count": 4,
   "metadata": {},
   "outputs": [
    {
     "data": {
      "text/plain": [
       "{'2022-01-01':           date  amount\n",
       " 0   2022-01-01     100\n",
       " 1   2022-01-02     100\n",
       " 2   2022-01-03     100\n",
       " 3   2022-01-04     100\n",
       " 4   2022-01-05     100\n",
       " ..         ...     ...\n",
       " 361 2022-12-28     100\n",
       " 362 2022-12-29     100\n",
       " 363 2022-12-30     100\n",
       " 364 2022-12-31     100\n",
       " 365 2023-01-01     100\n",
       " \n",
       " [366 rows x 2 columns],\n",
       " '2023-01-01':           date  amount\n",
       " 0   2023-01-01      50\n",
       " 1   2023-01-02      50\n",
       " 2   2023-01-03      50\n",
       " 3   2023-01-04      50\n",
       " 4   2023-01-05      50\n",
       " ..         ...     ...\n",
       " 361 2023-12-28      50\n",
       " 362 2023-12-29      50\n",
       " 363 2023-12-30      50\n",
       " 364 2023-12-31      50\n",
       " 365 2024-01-01      50\n",
       " \n",
       " [366 rows x 2 columns]}"
      ]
     },
     "execution_count": 4,
     "metadata": {},
     "output_type": "execute_result"
    }
   ],
   "source": [
    "portfolio.add_holders_transactions(holder_id='01', date= \"2022-01-01\", amount=100)\n",
    "\n",
    "for keys in portfolio.holders.keys() : \n",
    "    portfolio.holders[keys].update_dict_evolution_historic(\"2022-01-01\",\"2023-01-01\")\n",
    "\n",
    "portfolio.add_holders_transactions(holder_id='01', date= \"2023-01-01\", amount=-50)\n",
    "for keys in portfolio.holders.keys() : \n",
    "    portfolio.holders[keys].update_dict_evolution_historic(\"2023-01-01\",\"2024-01-01\")\n",
    "\n",
    "portfolio.holders['01'].dict_evolution"
   ]
  }
 ],
 "metadata": {
  "kernelspec": {
   "display_name": "UmbrellaPortfolioManager",
   "language": "python",
   "name": "python3"
  },
  "language_info": {
   "codemirror_mode": {
    "name": "ipython",
    "version": 3
   },
   "file_extension": ".py",
   "mimetype": "text/x-python",
   "name": "python",
   "nbconvert_exporter": "python",
   "pygments_lexer": "ipython3",
   "version": "3.8.18"
  }
 },
 "nbformat": 4,
 "nbformat_minor": 2
}
