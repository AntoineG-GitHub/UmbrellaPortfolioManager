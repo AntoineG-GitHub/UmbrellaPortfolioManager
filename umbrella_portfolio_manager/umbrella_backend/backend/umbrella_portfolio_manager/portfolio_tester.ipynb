{
 "cells": [
  {
   "cell_type": "code",
   "execution_count": 1,
   "metadata": {},
   "outputs": [],
   "source": [
    "from portfolio.portfolio import Portfolio"
   ]
  },
  {
   "cell_type": "markdown",
   "metadata": {},
   "source": [
    "# Portfolio tester"
   ]
  },
  {
   "cell_type": "code",
   "execution_count": 2,
   "metadata": {},
   "outputs": [],
   "source": [
    "portfolio = Portfolio(id = \"01\")"
   ]
  },
  {
   "cell_type": "code",
   "execution_count": 3,
   "metadata": {},
   "outputs": [
    {
     "data": {
      "text/plain": [
       "{}"
      ]
     },
     "execution_count": 3,
     "metadata": {},
     "output_type": "execute_result"
    }
   ],
   "source": [
    "portfolio.portfolio"
   ]
  },
  {
   "cell_type": "code",
   "execution_count": 4,
   "metadata": {},
   "outputs": [
    {
     "name": "stdout",
     "output_type": "stream",
     "text": [
      "{'NVDA': <portfolio.stock.Stock object at 0x000002B4AE344580>}\n",
      "{'NVDA': <portfolio.stock.Stock object at 0x000002B4AE344580>, 'AMZN': <portfolio.stock.Stock object at 0x000002B4AE30A8B0>}\n"
     ]
    }
   ],
   "source": [
    "\n",
    "portfolio.add_stock_transactions(ticker='NVDA', date= \"2022-01-01\", quantity=1, transaction_price= 153.02, conversation_rate= 1.02, transaction_price_euro= 150.02, charge= 2.38)\n",
    "print(portfolio.stocks)\n",
    "\n",
    "for keys in portfolio.stocks.keys() : \n",
    "    portfolio.stocks[keys].update_dict_evolution_historic(\"2022-01-01\",\"2023-01-01\")\n",
    "portfolio.add_stock_transactions(ticker='AMZN', date= \"2023-01-01\", quantity=1, transaction_price= 173.02, conversation_rate= 1.02, transaction_price_euro= 169.63, charge= 2.38)\n",
    "print(portfolio.stocks)\n",
    "\n",
    "for keys in portfolio.stocks.keys() : \n",
    "    portfolio.stocks[keys].update_dict_evolution_historic(\"2023-01-01\",\"2024-01-01\")"
   ]
  },
  {
   "cell_type": "code",
   "execution_count": 6,
   "metadata": {},
   "outputs": [
    {
     "data": {
      "text/plain": [
       "{'2022-01-01':             quantity       price  transaction_price_euro  conversion_rate\n",
       " 2022-01-01         1  153.020000              150.020000         1.020000\n",
       " 2022-01-03         1  300.795135              264.471110         1.137346\n",
       " 2022-01-04         1  292.496582              258.795125         1.130224\n",
       " 2022-01-05         1  275.659821              244.300756         1.128363\n",
       " 2022-01-06         1  281.391907              248.722310         1.131350\n",
       " ...              ...         ...                     ...              ...\n",
       " 2022-12-23         1  151.992554              143.344168         1.060333\n",
       " 2022-12-27         1  141.147385              132.654551         1.064022\n",
       " 2022-12-28         1  140.297745              131.893907         1.063717\n",
       " 2022-12-29         1  145.965240              137.324107         1.062925\n",
       " 2022-12-30         1  146.075180              137.021444         1.066075\n",
       " \n",
       " [252 rows x 4 columns],\n",
       " '2023-01-01':                  price  conversion_rate  transaction_price_euro  quantity\n",
       " 2023-01-03  143.086502         1.067771              134.004804         1\n",
       " 2023-01-04  147.424591         1.054685              139.780622         1\n",
       " 2023-01-05  142.586731         1.060637              134.435057         1\n",
       " 2023-01-06  148.524109         1.052222              141.152856         1\n",
       " 2023-01-09  156.210709         1.065632              146.589684         1\n",
       " ...                ...              ...                     ...       ...\n",
       " 2023-12-22  488.299988         1.100619              443.659581         1\n",
       " 2023-12-26  492.790009         1.102026              447.167515         1\n",
       " 2023-12-27  494.170013         1.104301              447.495672         1\n",
       " 2023-12-28  495.220001         1.110864              445.797033         1\n",
       " 2023-12-29  495.220001         1.106819              447.426303         1\n",
       " \n",
       " [250 rows x 4 columns]}"
      ]
     },
     "execution_count": 6,
     "metadata": {},
     "output_type": "execute_result"
    }
   ],
   "source": [
    "portfolio.stocks['NVDA'].dict_evolution"
   ]
  },
  {
   "cell_type": "code",
   "execution_count": null,
   "metadata": {},
   "outputs": [],
   "source": []
  }
 ],
 "metadata": {
  "kernelspec": {
   "display_name": "UmbrellaPortfolioManager",
   "language": "python",
   "name": "python3"
  },
  "language_info": {
   "codemirror_mode": {
    "name": "ipython",
    "version": 3
   },
   "file_extension": ".py",
   "mimetype": "text/x-python",
   "name": "python",
   "nbconvert_exporter": "python",
   "pygments_lexer": "ipython3",
   "version": "3.8.18"
  }
 },
 "nbformat": 4,
 "nbformat_minor": 2
}
