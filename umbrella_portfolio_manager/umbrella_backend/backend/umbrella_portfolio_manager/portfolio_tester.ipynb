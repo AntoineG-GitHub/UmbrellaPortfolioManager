{
 "cells": [
  {
   "cell_type": "code",
   "execution_count": 1,
   "metadata": {},
   "outputs": [],
   "source": [
    "from portfolio.portfolio import Portfolio"
   ]
  },
  {
   "cell_type": "markdown",
   "metadata": {},
   "source": [
    "# Portfolio tester"
   ]
  },
  {
   "cell_type": "markdown",
   "metadata": {},
   "source": [
    "### Ordre des étapes\n",
    "    1. Ajout d'un portfolio\n",
    "    2. Ajout d'un holder\n",
    "    3. Ajout de transaction\n",
    "    4. Calcul de l'historique des holders\n",
    "    5. Calcul de l'historique des transactions\n",
    "Le tout dans l'ordre chronologique"
   ]
  },
  {
   "cell_type": "code",
   "execution_count": 2,
   "metadata": {},
   "outputs": [
    {
     "name": "stdout",
     "output_type": "stream",
     "text": [
      "01\n",
      "02\n",
      "01\n",
      "02\n"
     ]
    }
   ],
   "source": [
    "portfolio = Portfolio(id = \"01\")\n",
    "# 01-01-2022\n",
    "## holders historic\n",
    "portfolio.add_holders_transactions(holder_id='01', date= \"2022-01-01\", amount=100)\n",
    "portfolio.add_holders_transactions(holder_id='02', date= \"2022-01-01\", amount=100)\n",
    "for keys in portfolio.holders.keys() :   \n",
    "    print(keys)                                                                                           \n",
    "    portfolio.holders[keys].update_dict_evolution_historic(\"2022-01-02\",\"2022-12-31\")\n",
    "portfolio.compute_holders_percentage_historic()\n",
    "## portfolio historic\n",
    "portfolio.add_stock_transactions(ticker='NVDA', date= \"2022-01-01\", quantity=1, transaction_price= 153.02, conversation_rate= 1.02, transaction_price_euro= 150.02, charge= 2.38)\n",
    "for keys in portfolio.stocks.keys() : \n",
    "    portfolio.stocks[keys].update_dict_evolution_historic(\"2022-01-01\",\"2022-12-31\")\n",
    "\n",
    "# 01-01-2023\n",
    "## holders historic\n",
    "portfolio.add_holders_transactions(holder_id='01', date= \"2023-01-01\", amount=100)\n",
    "portfolio.add_holders_transactions(holder_id='02', date= \"2023-01-01\", amount=-50)\n",
    "for keys in portfolio.holders.keys() :\n",
    "    print(keys)                                                                                              \n",
    "    portfolio.holders[keys].update_dict_evolution_historic(\"2023-01-02\",\"2024-01-01\")\n",
    "portfolio.compute_holders_percentage_historic()\n",
    "## portfolio historic\n",
    "portfolio.add_stock_transactions(ticker='NVDA', date= \"2023-01-01\", quantity=1, transaction_price= 153.02, conversation_rate= 1.02, transaction_price_euro= 150.02, charge= 2.38)\n",
    "for keys in portfolio.stocks.keys() : \n",
    "    portfolio.stocks[keys].update_dict_evolution_historic(\"2023-01-01\",\"2024-01-01\")\n"
   ]
  },
  {
   "cell_type": "code",
   "execution_count": 3,
   "metadata": {},
   "outputs": [],
   "source": [
    "portfolio.update_portfolio_evolution()"
   ]
  },
  {
   "cell_type": "code",
   "execution_count": 5,
   "metadata": {},
   "outputs": [
    {
     "data": {
      "text/html": [
       "<div>\n",
       "<style scoped>\n",
       "    .dataframe tbody tr th:only-of-type {\n",
       "        vertical-align: middle;\n",
       "    }\n",
       "\n",
       "    .dataframe tbody tr th {\n",
       "        vertical-align: top;\n",
       "    }\n",
       "\n",
       "    .dataframe thead th {\n",
       "        text-align: right;\n",
       "    }\n",
       "</style>\n",
       "<table border=\"1\" class=\"dataframe\">\n",
       "  <thead>\n",
       "    <tr style=\"text-align: right;\">\n",
       "      <th></th>\n",
       "      <th>total_value</th>\n",
       "    </tr>\n",
       "  </thead>\n",
       "  <tbody>\n",
       "    <tr>\n",
       "      <th>2023-01-01</th>\n",
       "      <td>300.040000</td>\n",
       "    </tr>\n",
       "    <tr>\n",
       "      <th>2023-01-03</th>\n",
       "      <td>268.009580</td>\n",
       "    </tr>\n",
       "    <tr>\n",
       "      <th>2023-01-04</th>\n",
       "      <td>279.561243</td>\n",
       "    </tr>\n",
       "    <tr>\n",
       "      <th>2023-01-05</th>\n",
       "      <td>268.870114</td>\n",
       "    </tr>\n",
       "    <tr>\n",
       "      <th>2023-01-06</th>\n",
       "      <td>282.305683</td>\n",
       "    </tr>\n",
       "    <tr>\n",
       "      <th>...</th>\n",
       "      <td>...</td>\n",
       "    </tr>\n",
       "    <tr>\n",
       "      <th>2023-12-22</th>\n",
       "      <td>887.319163</td>\n",
       "    </tr>\n",
       "    <tr>\n",
       "      <th>2023-12-26</th>\n",
       "      <td>894.335030</td>\n",
       "    </tr>\n",
       "    <tr>\n",
       "      <th>2023-12-27</th>\n",
       "      <td>894.991343</td>\n",
       "    </tr>\n",
       "    <tr>\n",
       "      <th>2023-12-28</th>\n",
       "      <td>891.594067</td>\n",
       "    </tr>\n",
       "    <tr>\n",
       "      <th>2023-12-29</th>\n",
       "      <td>894.852605</td>\n",
       "    </tr>\n",
       "  </tbody>\n",
       "</table>\n",
       "<p>251 rows × 1 columns</p>\n",
       "</div>"
      ],
      "text/plain": [
       "            total_value\n",
       "2023-01-01   300.040000\n",
       "2023-01-03   268.009580\n",
       "2023-01-04   279.561243\n",
       "2023-01-05   268.870114\n",
       "2023-01-06   282.305683\n",
       "...                 ...\n",
       "2023-12-22   887.319163\n",
       "2023-12-26   894.335030\n",
       "2023-12-27   894.991343\n",
       "2023-12-28   891.594067\n",
       "2023-12-29   894.852605\n",
       "\n",
       "[251 rows x 1 columns]"
      ]
     },
     "execution_count": 5,
     "metadata": {},
     "output_type": "execute_result"
    }
   ],
   "source": [
    "portfolio.dict_evolution['2023-01-01']"
   ]
  }
 ],
 "metadata": {
  "kernelspec": {
   "display_name": "UmbrellaPortfolioManager",
   "language": "python",
   "name": "python3"
  },
  "language_info": {
   "codemirror_mode": {
    "name": "ipython",
    "version": 3
   },
   "file_extension": ".py",
   "mimetype": "text/x-python",
   "name": "python",
   "nbconvert_exporter": "python",
   "pygments_lexer": "ipython3",
   "version": "3.8.18"
  }
 },
 "nbformat": 4,
 "nbformat_minor": 2
}
